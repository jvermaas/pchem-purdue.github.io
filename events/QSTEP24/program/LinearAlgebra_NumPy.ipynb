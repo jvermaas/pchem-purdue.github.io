{
 "cells": [
  {
   "cell_type": "markdown",
   "id": "4be46223",
   "metadata": {},
   "source": [
    "# What is a vector? #\n",
    "\n",
    "There are several different (and equivalent) ways to think of a vector. In introductory physics, a \"vector\" is often defined as a quantity that has both a magnitude and direction; this is a \"vector\" in the sense of three-dimensional real space. In the context of abstract algebra, a \"vector\" is a more general creature that, loosely speaking, can be defined by the fact that vectors can be *added* and *scaled*. One of the defining features of quantum mechanics is that the physical state of any real system is defined by a (generally complex) vector in an abstract vector space called \"Hilbert space\". \n",
    "\n",
    "For today's purposes, it will be sufficient to think of vectors as lists of numbers of some fixed length; the \"length\" is called the dimensionality of the vector. In most of today's examples, we'll think about real vectors in 2D space, so our vectors will look something like\n",
    "$${\\boldsymbol v} = \\begin{bmatrix} x \\\\y \\end{bmatrix}, $$\n",
    "where $x$ and $y$ are real-space Cartesian coordinates. The state vectors representing quantum systems, by contrast, are in general infinite-dimensional, so that they should be represented as something like\n",
    "$${\\boldsymbol v} = \\begin{bmatrix} x_1 \\\\ x_2 \\\\ x_3 \\\\\\vdots \\end{bmatrix}. $$\n",
    "\n",
    "\n",
    "# How are vectors stored/manipulated in Python? #\n",
    "\n",
    "The Python programming language has a native variable type called a \"list\" that in some ways resembles a vector. This is what you get when you type a command like \n",
    "``v = [1, 2, 3]``\n",
    "However, the Python list differs in important ways from the mathematical concept of a vector. For example, Python lists can't be added and subtracted or multiplied by scalars (at least not easily) the way mathematical vectors can. At the level of syntax, maybe the most important difference is that the elements of a Python list don't even have to be the same sort of variable. For example, in Python, it's perfectly valid to define a list like\n",
    "``v = [1, \"hello\", False]``\n",
    "Here the first list entry is a number, the second is a string, and the third a boolean (True/False) variable. In contrast, the vectors we work with in mathematics always have (or can equivalently be treated as having) the same type of number (either real or complex) in each entry. \n",
    "\n",
    "Fortunately, most Python installations include the NumPy (or \"Numerical Python\") library that defines a variable type called an **array** that has entries very similar to a vector. To use the NumPy library, simply insert at the top of your Python code the command\n",
    "\n",
    "``import numpy as np``\n",
    "\n",
    "to let the kernel know that you want to use NumPy commands. To define a vector, you can now use syntax like\n",
    "\n",
    "``v = np.array([1, 2, 3])``\n",
    "\n",
    "This syntax converts the Python list ``[1, 2, 3]`` to a NumPy array object that can be added to or subtracted from other arrays (with the same dimensions) or multiplied by real or complex scalars. \n",
    "\n",
    "\n",
    "## You try it! ##\n",
    "\n",
    "Use the code block below to get a feel for how this works. (Type or paste code into the text entry box just below and then execute the code by typing at the key board \"<Shift>+<Enter>\" or \"<Ctrl>+<Enter>\"). Try creating NumPy vectors using the commands:\n",
    "\n",
    "``v = np.array([1, 2, 3])``\n",
    "\n",
    "``u = np.zeros((3,))``\n",
    "\n",
    "``z = np.ones((3,))``\n",
    "\n",
    "Don't forget to include the ``import numpy as np`` command first!\n",
    "\n",
    "Get a feel for vector operations using these prompts: \n",
    "* Use the command ``np.print()`` to see what these variables look like. (E.g., ``np.print(v)``). \n",
    "* Then add and subtract them using ``+`` and ``-`` commands (just like you would real numbers) and print the results.\n",
    "* What happens if you change the ``(3,)`` in the last two commands to, e.g., ``(5,)``? Check also what the ``np.shape()`` command does.  "
   ]
  },
  {
   "cell_type": "code",
   "execution_count": null,
   "id": "c911a1dc",
   "metadata": {
    "ExecuteTime": {
     "end_time": "2024-10-09T19:49:17.308175Z",
     "start_time": "2024-10-09T19:49:17.299019Z"
    }
   },
   "outputs": [],
   "source": []
  },
  {
   "cell_type": "markdown",
   "id": "9d1b4f41",
   "metadata": {},
   "source": [
    "# How do you visualize vectors in Python? #\n",
    "\n",
    "Visualizing many-dimensional vectors isn't so easy. But visualizing 2D vectors is very useful for building intuition about vector algebra even in higher-dimensional spaces. \n",
    "\n",
    "The `matplotlib` package provides a host of useful functions for visualizing vectors (and more complicated quantities) in two dimensions. To use the library, first include the line `import matplotlib.pyplot as plt` at the top of your code, to let the kernel know that you want access to `matplotlib` functions. From there, your most important commands are `plt.plot()` and `plt.show()`. To get a sense for how this works, have a look at the code below. Then see if you can figure out how to make these changes:\n",
    "\n",
    "* Change the green line from solid to dashed. (Hint: change the \"-\" to a \"--\".)\n",
    "* Color all three dots blue. Or black. Or red. \n",
    "* Add a blue line from the point (0,0) to (0,1) to illustrate the vertical unit vector. "
   ]
  },
  {
   "cell_type": "code",
   "execution_count": 1,
   "id": "588bcbcf",
   "metadata": {
    "ExecuteTime": {
     "end_time": "2024-10-12T16:18:23.605520Z",
     "start_time": "2024-10-12T16:18:22.989698Z"
    }
   },
   "outputs": [
    {
     "data": {
      "image/png": "[encoded data removed]",
      "text/plain": [
       "<Figure size 432x288 with 1 Axes>"
      ]
     },
     "metadata": {
      "needs_background": "light"
     },
     "output_type": "display_data"
    }
   ],
   "source": [
    "import numpy as np\n",
    "import matplotlib.pyplot as plt\n",
    "\n",
    "z = np.zeros((2,))\n",
    "u = np.array([1.0, 1.0])\n",
    "v = np.array([1.0, 0.0])\n",
    "\n",
    "plt.plot(z[0], z[1], 'ok')\n",
    "plt.plot(u[0], u[1], 'ob')\n",
    "plt.plot(v[0], v[1], 'og')\n",
    "\n",
    "plt.plot([z[0], v[0]], [z[1], v[1]], 'r-')\n",
    "\n",
    "plt.gca().set_aspect('equal')\n",
    "plt.xlim(-2,2)\n",
    "plt.ylim(-2,2)\n",
    "plt.show()"
   ]
  },
  {
   "cell_type": "markdown",
   "id": "a075ce32",
   "metadata": {},
   "source": [
    "In visualizing vectors, it is often useful to plot them as a line segment pointing from the origin (i.e., the vector \\[0,0\\]) to the coordinates of the vector of interest. In the cell block below, we define two convenience functions:\n",
    "* `setup_axes()` sets up a set of unit axes (x and y unit vectors). \n",
    "* `plot_vec()` plots input vectors as line segments. \n",
    "Execute the code below and try plotting different combinations of the `u` and `v` vectors (or any other 2D vector you like) to see how it works. "
   ]
  },
  {
   "cell_type": "code",
   "execution_count": 2,
   "id": "4f8cb79a",
   "metadata": {
    "ExecuteTime": {
     "end_time": "2024-10-12T16:18:26.426209Z",
     "start_time": "2024-10-12T16:18:25.973310Z"
    }
   },
   "outputs": [
    {
     "data": {
      "image/png": "[encoded data removed]",
      "text/plain": [
       "<Figure size 432x288 with 1 Axes>"
      ]
     },
     "metadata": {
      "needs_background": "light"
     },
     "output_type": "display_data"
    }
   ],
   "source": [
    "import numpy as np\n",
    "import matplotlib.pyplot as plt\n",
    "\n",
    "def setup_axes():\n",
    "    plt.plot([0,1], [0,0], '-', color=0.75*np.ones((3,)))\n",
    "    plt.plot([0,0], [0,1], '-', color=0.75*np.ones((3,)))\n",
    "    \n",
    "    plt.gca().set_aspect('equal')\n",
    "    plt.xlim(-1.5, 1.5)\n",
    "    plt.ylim(-1.5, 1.5)\n",
    "    plt.xlabel('$x$', fontsize=16)\n",
    "    plt.ylabel('$y$', fontsize=16)\n",
    "    \n",
    "\n",
    "def plot_vec(vec, flag='k-'): \n",
    "    plt.plot([0,vec[0]], [0, vec[1]], flag)\n",
    "    plt.plot(vec[0], vec[1], 'ko')\n",
    "    \n",
    "\n",
    "setup_axes()\n",
    "plot_vec(u)\n",
    "plot_vec(v)"
   ]
  },
  {
   "cell_type": "markdown",
   "id": "fa8f7911",
   "metadata": {},
   "source": [
    "# What is a matrix? #\n",
    "\n",
    "Vectors are in some ways fairly intuitive mathematical objects, since (even in quantum mechanics) they behave in many ways similarly to the 3D vectors that define the coordinates of objects in real space. The concept of the *matrix* plays an equally important role in quantum mechanics but often feels less intuitive at first contact. \n",
    "\n",
    "The simplest definition of a matrix is simply that it is a 2D array of numbers. Just as a vector can be thought of as a list of numbers -- with a single index identifying the position of each entry -- a matrix is something like a 2D list, where each entry is characterized by both a \"row\" and a \"column\" index. For example,\n",
    "\n",
    "$$\\boldsymbol{M} = \\begin{bmatrix} 1 & 2 & 3 \\\\ 4 & 5 & 6 \\\\ 7 & 8 & 9 \\end{bmatrix}$$\n",
    "\n",
    "is 3x3 matrix, the first few entries of which are\n",
    "* $M_{11} = 1$\n",
    "* $M_{12} = 2$\n",
    "* $M_{13} = 3$\n",
    "* $M_{21} = 4$\n",
    "* $M_{22} = 5$\n",
    "\n",
    "and so on. At face value, the primary difference between matrices and vectors is that matrices come with two indices, whereas vectors come with only one. (We'll see shortly, though, that matrices have some very interesting -- and not entirely intuitive -- properties that come out handy in quantum mechanics.)\n",
    "\n",
    "# How are matrices stored/manipulated in Python? #\n",
    "\n",
    "As you might have guessed, the NumPy package provides a convenient means to store and manipulate matrices. Check the examples below to get a sense for how this works. "
   ]
  },
  {
   "cell_type": "code",
   "execution_count": 3,
   "id": "f94aea45",
   "metadata": {
    "ExecuteTime": {
     "end_time": "2024-10-12T16:18:28.052468Z",
     "start_time": "2024-10-12T16:18:28.036186Z"
    }
   },
   "outputs": [
    {
     "name": "stdout",
     "output_type": "stream",
     "text": [
      "M:\n",
      "[[1 2 3]\n",
      " [4 5 6]\n",
      " [7 8 9]]\n",
      "\n",
      "Z:\n",
      "[[0. 0. 0.]\n",
      " [0. 0. 0.]\n",
      " [0. 0. 0.]]\n",
      "\n",
      "A:\n",
      "[[1. 1. 1.]\n",
      " [1. 1. 1.]\n",
      " [1. 1. 1.]]\n",
      "\n",
      "A+M:\n",
      "[[ 2.  3.  4.]\n",
      " [ 5.  6.  7.]\n",
      " [ 8.  9. 10.]]\n",
      "\n"
     ]
    }
   ],
   "source": [
    "import numpy as np\n",
    "\n",
    "M = np.array([[1, 2, 3],\n",
    "              [4, 5, 6],\n",
    "              [7, 8, 9]])\n",
    "\n",
    "\n",
    "print('M:')\n",
    "print(M)\n",
    "print()\n",
    "\n",
    "Z = np.zeros((3,3))\n",
    "print('Z:')\n",
    "print(Z)\n",
    "print()\n",
    "\n",
    "A = np.ones((3,3))\n",
    "print('A:')\n",
    "print(A)\n",
    "print()\n",
    "\n",
    "print('A+M:')\n",
    "print(A+M)\n",
    "print()"
   ]
  },
  {
   "cell_type": "markdown",
   "id": "0c0a06d0",
   "metadata": {},
   "source": [
    "# Why is matrix multiplication so weird? #\n",
    "\n",
    "Like vectors, matrices can be added and subtracted \"element-wise\", i.e., by adding the entries at corresponding positions. Matrix *multiplication* is a bit more complicated. You might think that the most obvious way to multiply two matrices would also be element-wise, i.e., if we have two matrices $\\mathbf{A}$ and $\\mathbf{B}$ with elements $A_{ij}$ and $B_{ij}$, then the elements in the product $\\mathbf{A} \\mathbf{B}$ would be simply $A_{ij} B_{ij}$. Although such element-wise products are useful in some contexts, most of the time it is more convenient to use the **matrix product** \n",
    "$$ [AB]_{ij} = \\sum_k A_{ik} B_{kj} .$$\n",
    "This may look like an oddly complicated way to define multiplication. To motivate it, let's step back a bit and talk first about *vector* multiplication. \n",
    "\n",
    "## Multiplying vectors: the scalar product ##\n",
    "\n",
    "In 3D space there are two common ways of \"multiplying\" vectors: the *cross product* and the *dot product*. Perhaps surprisingly, only one of these -- the dot product -- has a simple extension to the many-dimensional vector spaces we work with in quantum mechanics. \n",
    "\n",
    "In the linear algebra and quantum mechanics literature, this many-dimensional \"dot product\" is often referred to as the *scalar product* (to emphasize that two vectors are combined to produce a scalar) or the *inner product* (to distinguish it from the \"outer product\" in which two vectors are combined to produce a matrix). The outer product is also a very useful quantity in the context of constructing operators, especially *projection operators*, but that's beyond our topic for today. Let's focus for now on the scalar product. \n",
    "\n",
    "In general, the scalar product of two vectors is defined by the operation\n",
    "$$\\mathbf{u} \\cdot \\mathbf{v} = u_1 v_1 + u_2 v_2 + u_3 v_3 + ... = \\sum_{k} u_k v_k ,$$\n",
    "where the sum extends over how ever many dimensions the two vectors possess. (Note that the dimensionality of both vectors must be the same to multiply them!)\n",
    "\n",
    "The last expression (with the sum over $k$) highlights a connection between the dot product and the matrix product defined earlier. If we think about the first vector $\\mathbf{u}$ as a 1xN matrix and the second vector as an Nx1 matrix, then the dot product is just the matrix product between the two: \n",
    "$$ \\mathbf{u} \\cdot \\mathbf{v} = \\begin{bmatrix} u_1 & u_2 \\end{bmatrix} \\begin{bmatrix} v_1 \\\\ v_2 \\end{bmatrix} $$\n",
    "\n",
    "\n",
    "## Scalar products in 2D ##\n",
    "\n",
    "In 2D or 3D space, the scalar product has a simple interpretation as describing *how nearly parallel* the two vectors are. In fact, if the vectors $\\mathbf{u}$ and $\\mathbf{v}$ have lengths $u$ and $v$, respectively, and form an angle of $\\theta$ between them, then \n",
    "$$\\mathbf{u} \\cdot \\mathbf{v} = u v \\cos(\\theta) .$$\n",
    "If the two vectors are exactly parallel (with $\\theta = 0^\\text{o}$), the scalar product is simply the product of their lengths; if they are exactly perpendicular ($\\theta = 90^\\text{o}$), the scalar product is zero; if they are antiparallel ($\\theta = 180^\\text{o}$), the scalar product is *negative* the product of their lengths.\n",
    "\n",
    "As an illustration, the code block below defines two unit vectors `u1` and `u2` by the angles `theta1` and `theta2` they make with the horizontal axis. The dot product of the two is the **length of the red dashed line**. Play with the values of `theta1` and `theta2` to see how the dot product varies with the relative angle. "
   ]
  },
  {
   "cell_type": "code",
   "execution_count": 6,
   "id": "cd31b5d5",
   "metadata": {
    "ExecuteTime": {
     "end_time": "2024-10-12T16:18:46.270717Z",
     "start_time": "2024-10-12T16:18:46.041321Z"
    }
   },
   "outputs": [
    {
     "data": {
      "image/png": "[encoded data removed]",
      "text/plain": [
       "<Figure size 432x288 with 1 Axes>"
      ]
     },
     "metadata": {
      "needs_background": "light"
     },
     "output_type": "display_data"
    }
   ],
   "source": [
    "setup_axes()\n",
    "\n",
    "theta1 = 45.0*(2.0*np.pi/360.0)\n",
    "u1 = np.array([np.cos(theta1), np.sin(theta1)])\n",
    "\n",
    "theta2 = -10.0*(2.0*np.pi/360.0)\n",
    "u2 = np.array([np.cos(theta2), np.sin(theta2)])\n",
    "\n",
    "dot = np.dot(u1, u2)\n",
    "\n",
    "plot_vec(u1)\n",
    "plt.text(u1[0], u1[1], ' u1', fontsize=16)\n",
    "\n",
    "plot_vec(u2)\n",
    "plt.text(u2[0], u2[1], ' u2', fontsize=16)\n",
    "plot_vec(u2*dot, 'r--')\n",
    "plt.plot([u2[0]*dot, u1[0]], [u2[1]*dot, u1[1]], 'k--')\n",
    "plt.show()"
   ]
  },
  {
   "cell_type": "markdown",
   "id": "cdbadcd2",
   "metadata": {},
   "source": [
    "Why is the scalar product so useful? Because it gives a precise measure of *how closely parallel* two vectors are, it also gives a precise way of determining *how to express one vector as a linear combination of other vectors*. \n",
    "\n",
    "To be more specific, if the set of vectors $\\{ \\mathbf{u}_1, \\mathbf{u}_2, \\mathbf{u}_3, ... \\}$ has the properties that\n",
    "* each vector is of unit length \n",
    "* all vectors are *mutually orthogonal* (i.e., each one is perpendicular to the others) and \n",
    "* the number of vectors is the same as the dimensionality of the vector space,\n",
    "then *any* vector $\\mathbf{v}$ can be expressed as \n",
    "$$ \\mathbf{v} = (\\mathbf{u}_1 \\cdot \\mathbf{v} ) \\, \\mathbf{u}_1 + (\\mathbf{u}_2 \\cdot \\mathbf{v} ) \\, \\mathbf{u}_2 + \\, ... $$\n",
    "The properties listed above define $\\{ \\mathbf{u}_1, \\mathbf{u}_2, \\mathbf{u}_3, ... \\}$ as an *orthonormal complete set*. \n",
    "\n",
    "In 2D, any orthonormal complete set must have exactly 2 vectors in it. In the code block below, we define two unit vectors `u1` and `u2` that are orthogonal to each other (i.e., forming an angle of $90^\\text{o}$) and thus for a complete orthonormal set. We then plot a third vector `v` and show that the original vector (plotted in green) is the same as the sum-vector (plotted with a red dashed line):\n",
    "$$ \\mathbf{v} = (\\mathbf{u}_1 \\cdot \\mathbf{v} ) \\, \\mathbf{u}_1 + (\\mathbf{u}_2 \\cdot \\mathbf{v} ) \\, \\mathbf{u}_2 . $$\n"
   ]
  },
  {
   "cell_type": "code",
   "execution_count": 9,
   "id": "2e6ec7ea",
   "metadata": {
    "ExecuteTime": {
     "end_time": "2024-10-12T16:19:09.368563Z",
     "start_time": "2024-10-12T16:19:09.150593Z"
    }
   },
   "outputs": [
    {
     "data": {
      "image/png": "[encoded data removed]",
      "text/plain": [
       "<Figure size 432x288 with 1 Axes>"
      ]
     },
     "metadata": {
      "needs_background": "light"
     },
     "output_type": "display_data"
    }
   ],
   "source": [
    "setup_axes()\n",
    "\n",
    "theta1 = 45.0*(2.0*np.pi/360.0)\n",
    "u1 = np.array([np.cos(theta1), np.sin(theta1)])\n",
    "\n",
    "theta2 = theta1-90.0*(2.0*np.pi/360.0)\n",
    "u2 = np.array([np.cos(theta2), np.sin(theta2)])\n",
    "\n",
    "# phi is the angle v makes with the x-axis\n",
    "phi = 35.0*(2.0*np.pi/360.0)\n",
    "v = np.array([np.cos(phi), np.sin(phi)])\n",
    "\n",
    "plot_vec(u1)\n",
    "plt.text(u1[0], u1[1], ' u1', fontsize=16)\n",
    "\n",
    "plot_vec(u2)\n",
    "plt.text(u2[0], u2[1], ' u2', fontsize=16)\n",
    "\n",
    "# ************************************************* #\n",
    "# Plot v\n",
    "plot_vec(v, 'g')\n",
    "plt.text(v[0], v[1], ' v', fontsize=16, va='center')\n",
    "# ************************************************* #\n",
    "\n",
    "\n",
    "# ************************************************* #\n",
    "# Plot v as a sum of its projections onto u1 and u2\n",
    "plot_vec(np.dot(u1,v)*u1 + np.dot(u2,v)*u2, 'r--')\n",
    "# ************************************************* #\n",
    "\n",
    "plt.show()"
   ]
  },
  {
   "cell_type": "markdown",
   "id": "619fadd1",
   "metadata": {},
   "source": [
    "## Matrix multiplication and scalar products ##\n",
    "\n",
    "We saw already that it's possible to think of the scalar product as a special case of the matrix product. Now let's see if we can dig up a motivation for the more general matrix product. \n",
    "\n",
    "The 2D example we just worked through actually offers a convenient illustration of why the matrix product comes in handy. We just saw that if we want to represent a vector (say $\\mathbf{v}$) as a linear combination of two other orthonormal vectors, then we need the two coefficients\n",
    "$$(\\mathbf{u}_1 \\cdot \\mathbf{v})$$\n",
    "and\n",
    "$$(\\mathbf{u}_2 \\cdot \\mathbf{v}) .$$\n",
    "A useful way to keep track of these coefficients is to store them together in a new vector\n",
    "$$\\tilde {\\mathbf{v}} = \\begin{bmatrix} (\\mathbf{u}_1 \\cdot \\mathbf{v}) \\\\ (\\mathbf{u}_2 \\cdot \\mathbf{v}) \\end{bmatrix} .$$\n",
    "Since this new vector $\\tilde {\\mathbf v}$ provides exactly the same information as the original vector $\\mathbf{v}$, we often call it the \"transformed\" representation of $\\mathbf{v}$; as long as we know the two \"basis\" vectors $\\mathbf{u}_1$ and $\\mathbf{u}_2$, it's always possible to interconvert (or \"transform\") back and forth between the two representations. \n",
    "\n",
    "Now, here's the important point: the transformed vector $\\tilde {\\mathbf{v}_3}$ is concisely expressed as the matrix-vector product\n",
    "$$\\tilde {\\mathbf{v}} = \\begin{bmatrix} (\\color{red}{\\mathbf{u}_1} \\cdot \\mathbf{v}) \\\\ (\\color{blue}{\\mathbf{u}_2} \\cdot \\mathbf{v}) \\end{bmatrix} = \\begin{bmatrix} \\color{red}{u_{11}} v_{1} + \\color{red}{u_{12}} v_2 \\\\\\color{blue}{u_{21}} v_1 + \\color{blue}{u_{22}} v_2 \\end{bmatrix} = \\begin{bmatrix} \\color{red}{\\begin{bmatrix} u_{11} & u_{12} \\end{bmatrix}} \\\\\\color{blue}{\\begin{bmatrix} u_{21} & u_{22} \\end{bmatrix}} \\end{bmatrix} \\begin{bmatrix} v_{1} \\\\ v_{2} \\end{bmatrix} = \\begin{bmatrix} \\color{red}{u_{11}} & \\color{red}{u_{12}} \\\\ \\color{blue}{u_{21}} & \\color{blue}{u_{22}} \\end{bmatrix} \\begin{bmatrix} v_{1} \\\\ v_{2} \\end{bmatrix} \\equiv \\mathbf{U} \\mathbf{v},$$\n",
    "where we have defined a new *matrix* $\\mathbf{U}$ whose *rows* are the basis vectors $\\mathbf{u}_1$ and $\\mathbf{u}_2$. \n",
    "\n",
    "Such a matrix $\\mathbf{U}$ (i.e., one whose rows form an orthonormal basis) is called a *unitary matrix*. (In real-valued vector spaces, a unitary matrix is typically called an \"orthogonal matrix\"; the term \"unitary\" applies more generally to the complex vector spaces we encounter in quantum mechanics.) \n",
    "\n",
    "Thus we find that matrix-vector multiplication arises naturally in the context of what are called \"unitary transformations\", i.e., the representation of one vector in terms a some particular orthonormal basis. In 2D and 3D, unitary matrices represent operations like rotation and inversion; the \"transformed\" vector in general has different coordinates but always the same length. Angles and dot products *between* vectors are also preserved by unitary transformations, so long as the same transformation is applied to both vectors. \n",
    "\n",
    "In NumPy, the matrix product is denoted by the `@` operator. (The operator `*` represents element-wise multiplication.) The code block below defines a unitary matrix `U` whose rows are just the vectors `v1` and `v2` from the last examplem, if the parameter `theta` is set to $45^\\text{o}$. Play with the angle `theta` that defines these two vectors and the angle `phi` that defines the vector `v` to which `U` is applied. What spatial operation does the transformation `U` represent?"
   ]
  },
  {
   "cell_type": "code",
   "execution_count": 10,
   "id": "d20b0e45",
   "metadata": {
    "ExecuteTime": {
     "end_time": "2024-10-12T16:19:14.913017Z",
     "start_time": "2024-10-12T16:19:14.664642Z"
    }
   },
   "outputs": [
    {
     "data": {
      "image/png": "[encoded data removed]",
      "text/plain": [
       "<Figure size 432x288 with 1 Axes>"
      ]
     },
     "metadata": {
      "needs_background": "light"
     },
     "output_type": "display_data"
    }
   ],
   "source": [
    "setup_axes()\n",
    "\n",
    "theta = 10.0*(2.0*np.pi/360.0)\n",
    "U = np.array([\n",
    "    [np.cos(theta), np.sin(theta)],\n",
    "    [-np.sin(theta), np.cos(theta)]\n",
    "])\n",
    "\n",
    "# phi is the angle v makes with the x-axis\n",
    "phi = 35.0*(2.0*np.pi/360.0)\n",
    "v = np.array([np.cos(phi), np.sin(phi)])\n",
    "\n",
    "plot_vec(v)\n",
    "plt.text(v[0], v[1], '  v')\n",
    "\n",
    "plot_vec(U@v)\n",
    "plt.text((U@v)[0], (U@v)[1], '  $\\\\tilde v$')\n",
    "plt.show()"
   ]
  },
  {
   "cell_type": "markdown",
   "id": "4a3a368b",
   "metadata": {},
   "source": [
    "## Matrix-matrix multiplication ##\n",
    "\n",
    "Supposing we've convinced you now that matrix-vector multiplication is defined in a sensible way, the question remains: Why is our definition of matrix-*matrix* multiplication sensible? \n",
    "\n",
    "We won't go through the mechanics in detail here, but the short answer is because: The standard definition of matrix-matrix multiplication satisfies the property that **the product of two *matrices* acts on a *vector* in exactly the same way as if we applied the two matrices one at a time**. In other words, if we have two matrices $\\mathbf{A}$ and $\\mathbf{B}$ and a vector $\\mathbf{v}$, then\n",
    "$$ \\left( \\mathbf{A} \\mathbf{B} \\right) \\mathbf{v} = \\mathbf{A} \\left(\\mathbf{B} \\mathbf{v}\\right) .$$ \n",
    "This *associative property* means that it doesn't matter where we put the parentheses in an expression like this, so we can write without ambiguity simply \n",
    "$$\\mathbf{A} \\mathbf{B} \\mathbf{v} = \\left( \\mathbf{A} \\mathbf{B} \\right) \\mathbf{v} = \\mathbf{A} \\left(\\mathbf{B} \\mathbf{v}\\right) . $$ \n",
    "\n",
    "This property of the matrix product turns out to be essential to the structure of quantum systems. The Schrodinger equation, for example, tells us that the time-dependence of any system can be calculated by the repeated multiplication (with very small -- in principle infinitesimally small -- time steps) of the state vector by the Hamiltonian matrix for the system. The properties of the matrix product allow us to write the *total* time dependence of a system from time zero to time $t$ in terms of the unitary time-evolution operator\n",
    "$$ e^{-\\frac{i}{\\hbar} \\mathbf{H} t} = \\sum_{n=0}^\\infty \\left( - \\frac{i t}{\\hbar} \\right)^n \\frac{\\mathbf{H}^n}{n!}, $$\n",
    "which is itself a sum of (infinitely many) products of the Hamiltonian $\\mathbf{H}$ with itself. \n",
    "\n",
    "\n",
    "Useful as it may be, a definition like \n",
    "$$ [AB]_{ij} = \\sum_k A_{ik} B_{kj} $$\n",
    "still looks a little confusing at first. Expressions like this take some time to get used to, but it may help to think of it as a series of inner products, e.g., as highlighted by the coloring in this 2D example: \n",
    "$$ \\mathbf{A} \\mathbf{B} = \\begin{bmatrix} \\color{red}{\\begin{bmatrix} A_{11} & A_{12} \\end{bmatrix}} \\\\ \\color{blue}{\\begin{bmatrix} A_{21} & A_{22} \\end{bmatrix}} \\end{bmatrix} \\begin{bmatrix} \\color{green}{\\begin{bmatrix} B_{11} \\\\ B_{21} \\end{bmatrix}} \\color{orange}{\\begin{bmatrix} B_{12} \\\\ B_{22} \\end{bmatrix}} \\end{bmatrix} = \\begin{bmatrix} (\\color{red}{A_{11}}\\color{green}{B_{11}} + \\color{red}{A_{12}} \\color{green}{B_{12}}) & (\\color{red}{A_{11}}\\color{orange}{B_{12}} + \\color{red}{A_{12}} \\color{orange}{B_{22}}) \\\\ (\\color{blue}{A_{21}}\\color{green}{B_{11}} + \\color{blue}{A_{22}} \\color{green}{B_{12}}) & (\\color{blue}{A_{21}}\\color{orange}{B_{12}} + \\color{blue}{A_{22}} \\color{orange}{B_{22}}) \\end{bmatrix} .$$\n",
    "Each element in the *product* matrix is just the inner product between the corresponding *row* of the first matrix and the *column* of the second matrix. Thus the elements a matrix product can be calculated by hand as consecutive \"row-by-column, row-by-column, row-by-column, ...\" operations.)\n",
    "\n",
    "The code block below illustrates this principle by comparing the vectors $\\mathbf{v}$ with the transformed vectors $\\mathbf{U} \\mathbf{v}$, $\\mathbf{U}^2 \\mathbf{v}$, and $\\mathbf{U}^3 \\mathbf{v}$. "
   ]
  },
  {
   "cell_type": "code",
   "execution_count": 11,
   "id": "b0796414",
   "metadata": {
    "ExecuteTime": {
     "end_time": "2024-10-12T16:19:18.759749Z",
     "start_time": "2024-10-12T16:19:18.500005Z"
    }
   },
   "outputs": [
    {
     "data": {
      "image/png": "[encoded data removed]",
      "text/plain": [
       "<Figure size 432x288 with 1 Axes>"
      ]
     },
     "metadata": {
      "needs_background": "light"
     },
     "output_type": "display_data"
    }
   ],
   "source": [
    "setup_axes()\n",
    "\n",
    "theta = 20.0*(2.0*np.pi/360.0)\n",
    "U = np.array([\n",
    "    [np.cos(theta), np.sin(theta)],\n",
    "    [-np.sin(theta), np.cos(theta)]\n",
    "])\n",
    "\n",
    "\n",
    "# phi is the angle v makes with the x-axis\n",
    "phi = 35.0*(2.0*np.pi/360.0)\n",
    "v = np.array([np.cos(phi), np.sin(phi)])\n",
    "\n",
    "plot_vec(v)\n",
    "plt.text(v[0], v[1], '  $\\\\mathbf{v}$')\n",
    "\n",
    "plot_vec(U@v)\n",
    "plt.text((U@v)[0], (U@v)[1], '  $\\\\mathbf{U} \\\\mathbf{v}$')\n",
    "\n",
    "plot_vec(U@U@v)\n",
    "plt.text((U@U@v)[0], (U@U@v)[1], '  $\\\\mathbf{U}^2 \\\\mathbf{v}$')\n",
    "\n",
    "plot_vec(U@U@U@v)\n",
    "plt.text((U@U@U@v)[0], (U@U@U@v)[1], '  $\\\\mathbf{U}^3 \\\\mathbf{v}$')\n",
    "plt.show()"
   ]
  },
  {
   "cell_type": "markdown",
   "id": "de74344f",
   "metadata": {},
   "source": [
    "# What does a unitary matrix do? #\n",
    "\n",
    "By this point we've already covered the basic properties of unitary matrices, but let's pause here just to summarize them. \n",
    "* A unitary matrix is one in which the rows form an orthonormal basis. \n",
    "* When a unitary matrix is applied to a vector, its length stays unchanged. \n",
    "* When the same unitary matrix is applied to a pair of vectors, their scalar (or \"inner\") product remains unchanged. \n",
    "* Real unitary matrices (i.e., orthogonal matrices) in 2D and 3D correspond to spatial symmetry operations like rotation and inversion. \n",
    "\n",
    "### Time to play ###\n",
    "\n",
    "Our last code block illustrates a 2D *rotation* matrix. See if you can find the right form for a 2D *inversion* matrix that takes each vector $\\mathbf{v}$ to its additive inverse $-\\mathbf{v}$, i.e., to the vector pointing in the opposite direction. What about the \"mirror\" matrix that reflects vectors across the $y$ axis? Or the $x$ axis? \n",
    "\n",
    "The code block below sets up the problem for you by constructing a unitary matrix and applying it to a vector $\\mathbf{v}$. Initially, $\\mathbf{U}$ is set to the *identity* matrix \n",
    "$$\\mathbf{U} = \\mathbf{I} \\equiv \\begin{bmatrix} 1 & 0 \\\\ 0 & 1 \\end{bmatrix} .$$\n",
    "What do you need to change to produce inversions and reflectsion? "
   ]
  },
  {
   "cell_type": "code",
   "execution_count": 12,
   "id": "4e0b8ccc",
   "metadata": {
    "ExecuteTime": {
     "end_time": "2024-10-12T16:19:21.360469Z",
     "start_time": "2024-10-12T16:19:21.187548Z"
    }
   },
   "outputs": [
    {
     "data": {
      "image/png": "[encoded data removed]",
      "text/plain": [
       "<Figure size 432x288 with 1 Axes>"
      ]
     },
     "metadata": {
      "needs_background": "light"
     },
     "output_type": "display_data"
    }
   ],
   "source": [
    "setup_axes()\n",
    "\n",
    "theta = 20.0*(2.0*np.pi/360.0)\n",
    "U = np.array([\n",
    "    [1.0, 0.0],\n",
    "    [0.0, 1.0]\n",
    "])\n",
    "\n",
    "\n",
    "# phi is the angle v makes with the x-axis\n",
    "phi = 35.0*(2.0*np.pi/360.0)\n",
    "v = np.array([np.cos(phi), np.sin(phi)])\n",
    "\n",
    "plot_vec(v)\n",
    "plt.text(v[0], v[1], '  $\\\\mathbf{v}$')\n",
    "\n",
    "plot_vec(U@v)\n",
    "plt.text((U@v)[0], (U@v)[1], '  $\\\\mathbf{U} \\\\mathbf{v}$')\n",
    "\n",
    "plt.show()"
   ]
  },
  {
   "cell_type": "markdown",
   "id": "ee624a72",
   "metadata": {},
   "source": [
    "# What does a Hermitian matrix do? #\n",
    "\n",
    "Hermitian matrices play a central role in quantum mechanics, representing (in a mathematically precise way) various physical observables like position, momentum, and energy. Mathematically, a Hermitian matrix is defined by the property that \n",
    "$$ A_{mn} = A_{nm}^*,$$\n",
    "i.e., that the matrix is equal to its *conjugate transpose* or \"Hermitian conjugate\". While unitary transformations have an intuitive interpretation in terms of rotations and inversions in real space, Hermitian matrices can feel more difficult to get ahold of conceptually. \n",
    "\n",
    "To build some intuition here, the code block below plots a series of data points both *before* (in gray) and *after* (black) applying multiplication by a matrix $\\mathbf{A}$. By default $\\mathbf{A}$ is set to the identity $\\mathbf{I}$. Try running the code with $\\mathbf{A}$ initialized to each of the following values:\n",
    "\n",
    "* The *Hermitian* matrices\n",
    "\n",
    "$$\\mathbf{A} = \\begin{bmatrix} 1 & 0 \\\\ 0 & 2 \\end{bmatrix}$$\n",
    "\n",
    "$$\\mathbf{A} = \\begin{bmatrix} 2 & 0 \\\\ 0 & 1 \\end{bmatrix}$$\n",
    "\n",
    "$$\\mathbf{A} = \\begin{bmatrix} 1 & 0 \\\\ 0 & 1 \\end{bmatrix}$$\n",
    "\n",
    "$$\\mathbf{A} = \\begin{bmatrix} 1 & 0 \\\\ 0 & -1 \\end{bmatrix}$$\n",
    "\n",
    "$$\\mathbf{A} = \\begin{bmatrix} 1 & 0.5 \\\\ 0.5 & 1 \\end{bmatrix}$$\n",
    "\n",
    "* The *unitary* rotation matrix $\\mathbf{U}$ defined in the last code block, i.e., with\n",
    "    $$\\mathbf{A} = \\begin{bmatrix}\\cos\\theta & \\sin\\theta \\\\-\\sin\\theta & \\cos\\theta \\end{bmatrix}$$\n",
    "    \n",
    "What do each of these operations do to the image plotted in the figure? If a unitary matrix corresponds to rotations or inversions, what does a Hermitian matrix represent? (Note that two of the Hermitian matrices identified above are *also* unitary matrices. Can you see which ones?)"
   ]
  },
  {
   "cell_type": "code",
   "execution_count": 13,
   "id": "caa7888b",
   "metadata": {
    "ExecuteTime": {
     "end_time": "2024-10-12T16:19:24.274778Z",
     "start_time": "2024-10-12T16:19:23.182626Z"
    }
   },
   "outputs": [
    {
     "data": {
      "image/png": "[encoded data removed]",
      "text/plain": [
       "<Figure size 432x288 with 1 Axes>"
      ]
     },
     "metadata": {
      "needs_background": "light"
     },
     "output_type": "display_data"
    }
   ],
   "source": [
    "setup_axes()\n",
    "\n",
    "A = np.array([\n",
    "    [1.0, 0],\n",
    "    [0, 1.0]\n",
    "])\n",
    "\n",
    "vecs = np.loadtxt('data.txt')\n",
    "\n",
    "for vec in vecs:\n",
    "    plt.plot((vec)[0], (vec)[1], '.', color=0.75*np.ones((3,)))\n",
    "    \n",
    "for vec in vecs:\n",
    "    plt.plot((A@vec)[0], (A@vec)[1], '.k')\n",
    "\n",
    "plt.show()"
   ]
  },
  {
   "cell_type": "markdown",
   "id": "5980ac2c",
   "metadata": {},
   "source": [
    "Hopefully these examples have led you to the following observation: in 2D or 3D real space, Hermitian matrices correspond to *stretching* or *compressing* vectors along a specific set of axes. A diagonal Hermitian matrix corresponds to stretching or compressing along the Cartesian coordinate axes $x$ and $y$, while Hermitian matrices that have off-diagonal elements correspond to stretching or compressing along other orthonormal axes. We'll learn about exactly *which* axes get stretched and compressed in the next section. \n",
    "\n",
    "\n",
    "\n",
    "# What are eigenvectors? #\n",
    "\n",
    "Finally, you may be aware that something called \"eigenvectors\" play a special role in quantum mechanics. What are these creatures? \n",
    "\n",
    "Mathematically, an eigenvector $\\mathbf{v}$ of a matrix $\\mathbf{A}$ is defined by the property that multiplying $\\mathbf{v}$ by $\\mathbf{A}$ produces no change other than scaling the vector by a constant value $\\lambda$, which is called the \"eigenvalue\". In other words, if $\\mathbf{v}$ is an eigenvalue of $\\mathbf{A}$ with eigenvalue $\\lambda$, then\n",
    "$$ \\mathbf{A} \\mathbf{v} = \\lambda \\mathbf{v} . $$\n",
    "\n",
    "In quantum mechanics, a central role is played by the eigenvalues of Hermitian operators. As such, much important physics is embedded in the following *mathematical* properties of Hermitian operators:\n",
    "* Their eigenvalues are all real. \n",
    "* Eigenvectors with different eigenvalues are always orthogonal. \n",
    "* Their eigenvectors span the entire vector space. \n",
    "\n",
    "Together, these three properties ensure \n",
    "1. that measured values for physical quantities are always real and \n",
    "2. that we can always describe the state of a system in terms of whatever physical property happens to be of interest to us. \n",
    "\n",
    "In real-space, the eigenvectors of a Hermitian matrix correspond to the *unit axes along which the Hermitian \"distortion\" of space produces no change in direction*: i.e., vectors that point in the same direction after multiplication by their corresponding Hermitian matrix. To get a sense for what eigenvalues represent in real 2D space, the code below plots a single vector `vec` both before and after multiplication by a Hermitian operator $\\mathbf{A}$. Try a few different definitions for $\\mathbf{A}$ and see if you can find at least one eigenvector in each case. What are the corresponding eigenvalues? \n",
    "\n"
   ]
  },
  {
   "cell_type": "code",
   "execution_count": 14,
   "id": "1756ef8d",
   "metadata": {
    "ExecuteTime": {
     "end_time": "2024-10-12T16:19:26.496682Z",
     "start_time": "2024-10-12T16:19:26.298391Z"
    }
   },
   "outputs": [
    {
     "data": {
      "image/png": "[encoded data removed]",
      "text/plain": [
       "<Figure size 432x288 with 1 Axes>"
      ]
     },
     "metadata": {
      "needs_background": "light"
     },
     "output_type": "display_data"
    }
   ],
   "source": [
    "setup_axes()\n",
    "\n",
    "A = np.array([\n",
    "    [1.0, 0.5],\n",
    "    [0.5, 1.0]\n",
    "])\n",
    "\n",
    "vec = np.array([1.0, 0.0])\n",
    "\n",
    "plot_vec(vec, 'k')\n",
    "    \n",
    "plot_vec((A@vec), 'r--')\n",
    "\n",
    "plt.show()"
   ]
  },
  {
   "cell_type": "markdown",
   "id": "1502d02a",
   "metadata": {},
   "source": [
    "## Matrix diagonalization ##\n",
    "\n",
    "Fortunately, for numerical calculations, you don't need to find eigenvectors by trial and error. The NumPy library provides a whole suite of commands for finding eigenvectors under various conditions. For our purposes, the most convenient command will be ``np.linalg.eigh()``, which calculates eigenvalues and eigenvectors for Hermitian operators. The command \n",
    "\n",
    "``evals, evecs = np.linalg.eigh(A)``\n",
    "\n",
    "in the code block produces a vector called ``evals`` that stores the eigenvalues of $\\mathbf{A}$ and a matrix ``evecs`` whose *columns* store the eigenvectors of $\\mathbf{A}$. The figure plots these two eigenvectors in black and then the rescaled eigenvector $\\mathbf{A}\\mathbf{v}$ in red or blue dashed lines. (You can check for yourself that the plotted vector ``A@evecs[:,n]`` is identical to the scaled vector ``evals[n]*evecs[:,n]``.)\n"
   ]
  },
  {
   "cell_type": "code",
   "execution_count": 15,
   "id": "7872eb41",
   "metadata": {
    "ExecuteTime": {
     "end_time": "2024-10-12T16:19:28.593369Z",
     "start_time": "2024-10-12T16:19:28.400476Z"
    }
   },
   "outputs": [
    {
     "name": "stdout",
     "output_type": "stream",
     "text": [
      "Eigenvalues: \n",
      "[0.21922359 2.28077641]\n",
      "\n",
      "Eigenvectors:\n",
      "[[-0.78820544  0.61541221]\n",
      " [ 0.61541221  0.78820544]]\n",
      "\n"
     ]
    },
    {
     "data": {
      "image/png": "[encoded data removed]",
      "text/plain": [
       "<Figure size 432x288 with 1 Axes>"
      ]
     },
     "metadata": {
      "needs_background": "light"
     },
     "output_type": "display_data"
    }
   ],
   "source": [
    "setup_axes()\n",
    "\n",
    "A = np.array([\n",
    "    [1.0, 1.0],\n",
    "    [1.0, 1.5]\n",
    "])\n",
    "\n",
    "evals, evecs = np.linalg.eigh(A)\n",
    "\n",
    "\n",
    "print('Eigenvalues: ')\n",
    "print(evals)\n",
    "print()\n",
    "\n",
    "print('Eigenvectors:')\n",
    "print(evecs)\n",
    "print()\n",
    "\n",
    "colors = ['r', 'b']\n",
    "for n in range(0, 2):\n",
    "    vec = evecs[:,n]\n",
    "    plot_vec(vec, 'k')\n",
    "    \n",
    "    plot_vec((A@vec), colors[n] + '--')\n",
    "\n",
    "plt.show()\n"
   ]
  },
  {
   "cell_type": "markdown",
   "id": "e59bacca",
   "metadata": {},
   "source": [
    "# How does all this relate to wave functions? #\n",
    "\n",
    "Finally, let's talk about the relationship between the \"matrix mechanics\" that we've been describing and the \"wave mechanics\" that you probably encountered in your first exposure to quantum mechanics. Simply put: what do matrices and vectors have to do with wave functions? \n",
    "\n",
    "The answer (it turns out) is: a lot! The key to understanding this relationship is to recognize that we can add and subtract *functions* (say $f(x)$) in just the same way we can add and subtract *vectors*. We can also *scale* functions by real or complex numbers, just like vectors. We can measure the \"size\" of a function (just like the length of a vector) by checking the area under the curve or (since functions can be negative-valued and even complex) the area under the *absolute-value-squared* curve:\n",
    "$$ \\left \\| f \\right \\|^2 = \\int_{-\\infty}^\\infty \\left |f(x) \\right |^2 dx .$$\n",
    "Perhaps less obvious is that we can even calculate \"dot products\" (or inner products) between functions by integrating them against each other: \n",
    "$$ \\left < f | g \\right> = \\int_{-\\infty}^\\infty f^*(x) g(x) dx .$$\n",
    "For inner products between functions, the notation $\\left < f | g \\right>$ is common in the physics literature, while $(f,g)$ is more common in mathematics.\n",
    "\n",
    "The point of all this is that functions have all the properties needed to form a vector space:\n",
    "* They can be added and subtracted. \n",
    "* They can be scaled by real or complex numbers. \n",
    "* They have a \"size\" -- or in technical terms a \"norm\".\n",
    "* They have a well-defined inner product. \n",
    "\n",
    "Thanks to these properties, it is possible to construct a one-to-one \"mapping\" between the many-dimensional vector space of quantum matrix mechanics and the many-dimensional \"function space\" of wave mechanics. (This demonstration was Schrodinger's second great contribution to quantum mechanics; his first was the Schrodinger equation itself.) \n",
    "\n",
    "In the example below, we'll give just a brief glimpse at this wave-vector duality through a dynamic illustration of a quantum harmonic oscillator (i.e., a quantum spring). In wavefunction terms, the state of the system will initially be a superposition of the ground and first-excited states of the oscillator:\n",
    "$$\\psi(x; t=0) = f^{\\frac{1}{2}} \\psi_0(x) + (1-f)^{\\frac{1}{2}} \\psi_1(x) . $$ \n",
    "The factor $f$ determines with what probability the molecule is in the ground state (probabilty = $f$) or the excited state (probability = $1 - f$). In \"wave mechanics\" terms, the function $\\psi(x)$ gives us the *probability amplitude* for where we might find the particle if we measured its position. \n",
    "\n",
    "\n",
    "In \"matrix mechanics\", we can represent *the same information* (if you know how to \"decode it\", i.e., if you have the correct Hermitian matrix corresponding to the position operator) by means of a vector that stores the $\\psi_0$ and $\\psi_1$ coefficients:\n",
    "$$ \\left | \\psi(0) \\right> = \\begin{bmatrix} \\sqrt{f} \\\\ \\sqrt{1-f} \\end{bmatrix} .$$\n",
    "(The notation $\\left | \\psi(0) \\right>$ is called bra-ket notation and is common in physics applications.) \n",
    "\n",
    "As the system changes in time, the Schrodinger equation tells us that it will evolve as \n",
    "$$\\psi(t) = f^{\\frac{1}{2}} e^{-i \\frac{\\omega}{2} t} \\psi_0 + (1-f)^{\\frac{1}{2}} e^{-i \\frac{3\\omega}{2} t} \\psi_1 , $$\n",
    "with the complex coefficients $e^{-i \\frac{\\omega}{2} t}$ and $e^{-i \\frac{3 \\omega}{2} t}$ indicating the evolving *phase* of each state, as determined by their relative energies $\\frac{\\omega}{2}$ and $\\frac{3\\omega}{2}$. In vector form, this means that our state vector evolves as \n",
    "$$ \\left | \\psi(t) \\right> = \\begin{bmatrix} e^{-i \\frac{\\omega}{2} t} \\sqrt{f} \\\\ e^{-i \\frac{3 \\omega}{2} t} \\sqrt{1-f} \\end{bmatrix} .$$\n",
    "This vector-space time evolution can also be described by the application of a unitary *time-evolution operator* $\\mathbf{U}(t)$ to the initial state vector $\\left | \\psi(0) \\right >$, i.e., \n",
    "$$\\left | \\psi(t) \\right > = \\mathbf{U(t)} \\left | \\psi(0) \\right >,$$\n",
    "where\n",
    "$$ \\mathbf{U}(t) = \\begin{bmatrix} e^{-i \\frac{\\omega}{2} t} & 0 \\\\ 0 & e^{-i \\frac{3 \\omega}{2} t} \\end{bmatrix} . $$\n",
    "\n",
    "Thus the evolution of the quantum system can be described *either* in terms of a time-evolving wavefunction (which describes the probability of finding the particle at a particular *place*) or a time-evolving \"state vector\" (which describes the probability of finding the system in a particular *energy state*). Note that in both cases, the system state is a complex quantity -- it has both an amplitude *and a phase*, which allows for more information to be encoded in the system state that would be allowed in a purely real wave function or state vector. \n",
    "\n",
    "The code block below illustrates these two pictures. The left-hand panel shows the evolution of the real and imaginary parts of the state vector with $f = 0.5$. The right-hand panel shows the evolution of the probablity density (green curve), with the evolving basis vectors $e^{-i \\frac{\\omega}{2} t} \\psi_0(x)$ and $e^{-i \\frac{3\\omega}{2} t} \\psi_1$ shown for comparison. "
   ]
  },
  {
   "cell_type": "code",
   "execution_count": 16,
   "id": "f9d2e86a",
   "metadata": {
    "ExecuteTime": {
     "end_time": "2024-10-12T16:19:44.849936Z",
     "start_time": "2024-10-12T16:19:30.816517Z"
    },
    "scrolled": false
   },
   "outputs": [
    {
     "data": {
      "image/png": "[encoded data removed]",
      "text/plain": [
       "<Figure size 720x360 with 2 Axes>"
      ]
     },
     "metadata": {
      "needs_background": "light"
     },
     "output_type": "display_data"
    }
   ],
   "source": [
    "from IPython import display\n",
    "\n",
    "xaxis = np.arange(-5, 5, 0.01)\n",
    "\n",
    "V = 0.5*xaxis**2\n",
    "\n",
    "\n",
    "psi0 = (1.0/np.power(np.pi, 0.25))*np.exp(-xaxis**2/2.0)\n",
    "psi1 = (np.sqrt(2.0)/np.power(np.pi, 0.25))*xaxis*np.exp(-xaxis**2/2.0)\n",
    "\n",
    "f=0.5\n",
    "\n",
    "# This is the state vector at t = 0\n",
    "vec0 = np.array([np.sqrt(f), np.sqrt(1-f)])\n",
    "print(np.shape(vec))\n",
    "\n",
    "plt.figure(figsize=(10,5))\n",
    "\n",
    "scale = 0.35\n",
    "for t in np.arange(0, 20, 0.5):\n",
    "    \n",
    "    plt.clf()\n",
    "    \n",
    "    U = np.array([\n",
    "        [np.exp(-0.5*1j*t), 0],\n",
    "        [0.0, np.exp(-1.5*1j*t)]\n",
    "    ])\n",
    "    \n",
    "    vec = U@vec0\n",
    "    \n",
    "#     print(U)\n",
    "    \n",
    "    psi = vec[0]*psi0 + vec[1]*psi1\n",
    "\n",
    "    \n",
    "    plt.subplot(1,2,1)\n",
    "    setup_axes()\n",
    "    plot_vec(np.real(vec), 'r')\n",
    "    plot_vec(np.imag(vec), 'b')\n",
    "    plt.text(-1.25, 1.25, 'Real', color='r', fontsize=16)\n",
    "    plt.text(-1.25, 1.0, 'Imag', color='b', fontsize=16)\n",
    "    \n",
    "    plt.subplot(1,2,2)\n",
    "\n",
    "    # psi0 contribution\n",
    "    plt.plot(xaxis, 0*xaxis+0.5, color=0.75*np.ones((3,)))\n",
    "    plt.plot(xaxis, scale*np.real(vec[0]*psi0)+0.5, 'r')\n",
    "    plt.plot(xaxis, scale*np.imag(vec[0]*psi0)+0.5, 'b')\n",
    "    \n",
    "    # psi1 contribution\n",
    "    plt.plot(xaxis, 0*xaxis+1.5, color=0.75*np.ones((3,)))\n",
    "    plt.plot(xaxis, scale*np.real(vec[1]*psi1)+1.5, 'r')\n",
    "    plt.plot(xaxis, scale*np.imag(vec[1]*psi1)+1.5, 'b')\n",
    "    \n",
    "    plt.fill_between(xaxis, scale*np.abs(psi)**2+(f*0.5+(1-f)*1.5), 0*xaxis+(f*0.5+(1-f)*1.5), color='g', alpha=0.5)\n",
    "    \n",
    "    plt.text(-2.75, (f*0.5+(1-f)*1.5)+0.125, '$|\\\\psi(t)|^2$', fontsize=16)\n",
    "    \n",
    "    plt.plot(xaxis, V, 'k--')\n",
    "    plt.xlim(-3,3)\n",
    "    plt.ylim(-0.25, 2)\n",
    "    plt.yticks([])\n",
    "    plt.text(2, 1.6, '$\\psi_1(t)$', fontsize=16)\n",
    "    plt.text(2, 0.6, '$\\psi_0(t)$', fontsize=16)\n",
    "    plt.xlabel('$x$', fontsize=16)\n",
    "    display.display(plt.gcf())\n",
    "    display.clear_output(wait=True)"
   ]
  },
  {
   "cell_type": "code",
   "execution_count": null,
   "id": "f23f490f",
   "metadata": {},
   "outputs": [],
   "source": []
  },
  {
   "cell_type": "code",
   "execution_count": null,
   "id": "e4288f5a",
   "metadata": {},
   "outputs": [],
   "source": []
  }
 ],
 "metadata": {
  "kernelspec": {
   "display_name": "Python 3.8",
   "language": "python",
   "name": "python3"
  },
  "language_info": {
   "codemirror_mode": {
    "name": "ipython",
    "version": 3
   },
   "file_extension": ".py",
   "mimetype": "text/x-python",
   "name": "python",
   "nbconvert_exporter": "python",
   "pygments_lexer": "ipython3",
   "version": "3.8.10"
  },
  "toc": {
   "base_numbering": 1,
   "nav_menu": {},
   "number_sections": true,
   "sideBar": true,
   "skip_h1_title": false,
   "title_cell": "Table of Contents",
   "title_sidebar": "Contents",
   "toc_cell": false,
   "toc_position": {},
   "toc_section_display": true,
   "toc_window_display": false
  },
  "varInspector": {
   "cols": {
    "lenName": 16,
    "lenType": 16,
    "lenVar": 40
   },
   "kernels_config": {
    "python": {
     "delete_cmd_postfix": "",
     "delete_cmd_prefix": "del ",
     "library": "var_list.py",
     "varRefreshCmd": "print(var_dic_list())"
    },
    "r": {
     "delete_cmd_postfix": ") ",
     "delete_cmd_prefix": "rm(",
     "library": "var_list.r",
     "varRefreshCmd": "cat(var_dic_list()) "
    }
   },
   "types_to_exclude": [
    "module",
    "function",
    "builtin_function_or_method",
    "instance",
    "_Feature"
   ],
   "window_display": false
  }
 },
 "nbformat": 4,
 "nbformat_minor": 5
}
